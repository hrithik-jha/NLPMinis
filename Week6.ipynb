{
 "cells": [
  {
   "cell_type": "code",
   "execution_count": 24,
   "metadata": {},
   "outputs": [],
   "source": [
    "from sklearn.feature_extraction.text import TfidfVectorizer\n",
    "from sklearn.metrics.pairwise import cosine_similarity\n",
    "\n",
    "a = [\"summer is a charming flirt. easy going and casual.\", \"Summer doesn't huff and puff to win at our affections.\", \"It has us at 'Hello'. Winter broods like the tortured protagonist of a big fat russian novel.\", \"It is daunting and dramatic, burning with a slow intensity.\"]\n",
    "#a1 = a.split()\n",
    "b = ['''In the predawn hours on Feb. 26, India launched an aerial attack -- unprecedented in peacetime -- on neighboring Pakistan, in retaliation for a suicide bombing 12 days earlier that killed more than 40 Indian paramilitary soldiers in the disputed valley of Kashmir. Pakistan predictably responded the next morning with its own air strike into Indian-controlled Kashmir.\n",
    "\n",
    "The confrontation could spiral out of control quickly. But fortunately, apart from a wounded Indian pilot and a Pakistani villager hit by falling rubble, the only confirmed casualty so far seems to be truth. Right now, the more extensive and damaging war in South Asia is the multi-pronged assault on reality by the warriors of Twitter, Facebook, WhatsApp and hyper-nationalist news channels as well as mendacious governments.\n",
    "\n",
    "India’s public sphere was the first to erupt with war cries. “Mess with the best,” declared one aged Bollywood action hero on Twitter, “die like the rest.” Even the few commentators ostensibly wary of Narendra Modi, India’s Hindu nationalist prime minister, succumbed to patriotic bloodlusts. India’s leading television channels vied with each other in urging more bombings and broadcasting transparently fake footage of the attack.\n",
    "\n",
    "As this war porn went viral, it was hard not to feel déjà vu. A similarly murky “surgical strike” by Indian forces in retaliation for a 2016 terrorist attack in Kashmir also incited a euphoric unanimity -- though it achieved nothing, apart from an abysmal Bollywood tribute. Enraptured by #surgicalstrike2 (the trending Twitter hashtag), far too many powerful and influential Indians appear determined to give war a chance. These smartphone bombardiers were shockingly incapable of grasping a simple fact -- that assaulting hills and dales deep in Pakistani territory would do nothing to forestall more terrorist attacks in Kashmir while guaranteeing Pakistani escalation.\n",
    "\n",
    "The key to such wildly delusional behavior lies, as does much else, in broad and radical shifts in Indian politics, communication technologies and self-perceptions. Many Indians have found themselves ushered by digital media into a frantic realm of hyperreality -- one in which extreme feelings and continuously simulated experiences replace the obdurately dull facts of real life.\n",
    "\n",
    "Read more: Avoiding Catastrophic Conflict in South Asia\n",
    "\n",
    "While a jingoistic mass media brazenly dissembles, social media offers easy escape to many from deep feelings of inadequacy into grandiose notions of self and nation. Having a skillful self-publicist in power has only accelerated a stunningly widespread descent in India into self-aggrandizing fantasy.\n",
    "\n",
    "A deft hand at social media, Modi has triumphantly worked with the assumption that, as Hannah Arendt wrote in “Lying in Politics,” “half of politics is ‘image-making’ [and] the other half is the art of making people believe the image.”\n",
    "\n",
    "Indeed, abject economic failures during his nearly five years in power have rendered Modi desperate to make voters believe in images of his martial prowess, especially as he faces challenges in upcoming general elections. Hence, his government’s savage crackdown on Kashmir, where violence has dramatically spiked in recent months, and now India’s equally unprecedented shock-and-awe attack on Pakistan.''']\n",
    "c = ['''While most Americans were distracted by the congressional testimony of Michael Cohen, the world edged closer to nuclear war.\n",
    "\n",
    "Tensions have risen between India and Pakistan this week after India struck what it claimed was a terrorist camp inside Pakistan’s borders. This might have blown over quickly, with both governments throwing red meat to belligerent domestic audiences and leaving it at that. But then Pakistan shot down Indian planes and captured a pilot, and things got more complicated. Now it’s increasingly difficult for both sides to walk away, writes Mihir Sharma. India’s Prime Minister Narendra Modi has an election coming up, and Pakistan’s Imran Khan sits atop an antsy military just looking for an excuse to ratchet up tensions. It’s hard right now to see a way out that saves face for both sides, Mihir warns.\n",
    "\n",
    "Earlier, President Donald Trump shared dinner and lavish praise with North Korea’s Kim Jong Un in Vietnam, at the start of a two-day summit aimed at getting the Hermit Kingdom to end its nuclear-weapons program. But James Stavridis warns North Korea’s nukes aren’t as clear and present a danger as the rest of its arsenal, which includes chemical and biological weapons. The world won’t stop being a dangerous place while we sort out our political troubles.\n",
    "\n",
    "Further Nuclear-State Reading: Iran’s foreign minister isn’t leaving after all; his fake resignation accomplished nothing, leaving him as weak as ever. – Bobby Ghosh \n",
    "\n",
    "Michael Cohen Speaks''']"
   ]
  },
  {
   "cell_type": "code",
   "execution_count": 25,
   "metadata": {},
   "outputs": [],
   "source": [
    "from sklearn.feature_extraction.text import CountVectorizer\n",
    "vect = CountVectorizer(binary = True)\n"
   ]
  },
  {
   "cell_type": "code",
   "execution_count": 26,
   "metadata": {},
   "outputs": [
    {
     "data": {
      "text/plain": [
       "CountVectorizer(analyzer='word', binary=True, decode_error='strict',\n",
       "        dtype=<class 'numpy.int64'>, encoding='utf-8', input='content',\n",
       "        lowercase=True, max_df=1.0, max_features=None, min_df=1,\n",
       "        ngram_range=(1, 1), preprocessor=None, stop_words=None,\n",
       "        strip_accents=None, token_pattern='(?u)\\\\b\\\\w\\\\w+\\\\b',\n",
       "        tokenizer=None, vocabulary=None)"
      ]
     },
     "execution_count": 26,
     "metadata": {},
     "output_type": "execute_result"
    }
   ],
   "source": [
    "vect.fit(a)"
   ]
  },
  {
   "cell_type": "code",
   "execution_count": 27,
   "metadata": {},
   "outputs": [
    {
     "name": "stdout",
     "output_type": "stream",
     "text": [
      "[[0.80403025]]\n"
     ]
    }
   ],
   "source": [
    "sim_ab = cosine_similarity(vect.transform(b).toarray(), vect.transform(c).toarray())\n",
    "print(sim_ab)"
   ]
  },
  {
   "cell_type": "code",
   "execution_count": null,
   "metadata": {},
   "outputs": [],
   "source": []
  }
 ],
 "metadata": {
  "kernelspec": {
   "display_name": "Python 3",
   "language": "python",
   "name": "python3"
  },
  "language_info": {
   "codemirror_mode": {
    "name": "ipython",
    "version": 3
   },
   "file_extension": ".py",
   "mimetype": "text/x-python",
   "name": "python",
   "nbconvert_exporter": "python",
   "pygments_lexer": "ipython3",
   "version": "3.6.4"
  }
 },
 "nbformat": 4,
 "nbformat_minor": 2
}
