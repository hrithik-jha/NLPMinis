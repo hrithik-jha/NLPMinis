{
 "cells": [
  {
   "cell_type": "code",
   "execution_count": 6,
   "metadata": {},
   "outputs": [
    {
     "data": {
      "text/plain": [
       "('arabic',\n",
       " 'danish',\n",
       " 'dutch',\n",
       " 'english',\n",
       " 'finnish',\n",
       " 'french',\n",
       " 'german',\n",
       " 'hungarian',\n",
       " 'italian',\n",
       " 'norwegian',\n",
       " 'porter',\n",
       " 'portuguese',\n",
       " 'romanian',\n",
       " 'russian',\n",
       " 'spanish',\n",
       " 'swedish')"
      ]
     },
     "execution_count": 6,
     "metadata": {},
     "output_type": "execute_result"
    }
   ],
   "source": [
    "from nltk.stem import PorterStemmer\n",
    "from nltk.tokenize import sent_tokenize, word_tokenize\n",
    "from nltk.stem.lancaster import LancasterStemmer\n",
    "from nltk.stem.snowball import SnowballStemmer\n",
    "\n",
    "ps = PorterStemmer()\n",
    "ls = LancasterStemmer()\n",
    "SnowballStemmer.languages"
   ]
  },
  {
   "cell_type": "code",
   "execution_count": 18,
   "metadata": {},
   "outputs": [],
   "source": [
    "txt = \"Experimental Revival denial dial dialing very pythonly sentence pythoned environment development scent. Unfortunately pythoning sorts. managerial role known Program Manager. Apple eating procrastinating singing. Denial procrastinate loving Indulging intolerate. Die Lie Invalidate disadvantage\"\n",
    "txt1 = \"exploriate infuruate presentation nation conjugate\""
   ]
  },
  {
   "cell_type": "code",
   "execution_count": 19,
   "metadata": {},
   "outputs": [
    {
     "name": "stdout",
     "output_type": "stream",
     "text": [
      "['exploriate', 'infuruate', 'presentation', 'nation', 'conjugate']\n"
     ]
    }
   ],
   "source": [
    "words = word_tokenize(txt1)\n",
    "print(words)"
   ]
  },
  {
   "cell_type": "code",
   "execution_count": 20,
   "metadata": {},
   "outputs": [
    {
     "name": "stdout",
     "output_type": "stream",
     "text": [
      "exploriate : explori\n",
      "infuruate : infuru\n",
      "presentation : present\n",
      "nation : nation\n",
      "conjugate : conjug\n"
     ]
    }
   ],
   "source": [
    "#PorterStemmer\n",
    "for word in words:\n",
    "    if word == '.':\n",
    "        continue\n",
    "    print(word, ':',ps.stem(word))"
   ]
  },
  {
   "cell_type": "code",
   "execution_count": 21,
   "metadata": {},
   "outputs": [
    {
     "name": "stdout",
     "output_type": "stream",
     "text": [
      "exploriate : expl\n",
      "infuruate : infuru\n",
      "presentation : pres\n",
      "nation : nat\n",
      "conjugate : conjug\n"
     ]
    }
   ],
   "source": [
    "#LancasterStemmer\n",
    "for word in words:\n",
    "    if word == '.':\n",
    "        continue\n",
    "    print(word, ':',ls.stem(word))"
   ]
  },
  {
   "cell_type": "code",
   "execution_count": 22,
   "metadata": {},
   "outputs": [
    {
     "name": "stdout",
     "output_type": "stream",
     "text": [
      "exploriate : explori\n",
      "infuruate : infuru\n",
      "presentation : present\n",
      "nation : nation\n",
      "conjugate : conjug\n"
     ]
    }
   ],
   "source": [
    "#SnowballStemmer\n",
    "fs = SnowballStemmer('english')\n",
    "for word in words:\n",
    "    if word == '.':\n",
    "        continue\n",
    "    print(word, ':', fs.stem(word))"
   ]
  },
  {
   "cell_type": "code",
   "execution_count": null,
   "metadata": {},
   "outputs": [],
   "source": []
  }
 ],
 "metadata": {
  "kernelspec": {
   "display_name": "Python 3",
   "language": "python",
   "name": "python3"
  },
  "language_info": {
   "codemirror_mode": {
    "name": "ipython",
    "version": 3
   },
   "file_extension": ".py",
   "mimetype": "text/x-python",
   "name": "python",
   "nbconvert_exporter": "python",
   "pygments_lexer": "ipython3",
   "version": "3.6.4"
  }
 },
 "nbformat": 4,
 "nbformat_minor": 2
}
